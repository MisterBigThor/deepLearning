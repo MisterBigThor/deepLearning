{
 "cells": [
  {
   "cell_type": "markdown",
   "metadata": {
    "colab_type": "text",
    "id": "HlYfEc-IoGRm"
   },
   "source": [
    "**Ejercicio entregable 1**"
   ]
  },
  {
   "cell_type": "markdown",
   "metadata": {
    "colab_type": "text",
    "id": "zU338LCBoOe9"
   },
   "source": [
    "El documento está orientado a la realización de una red DCNN que permita clasificar entre imágenes de perros y gatos.\n",
    "Para ello, se han definido todos los pasos que debereís dar y la puntuación de los mismos"
   ]
  },
  {
   "cell_type": "markdown",
   "metadata": {
    "colab_type": "text",
    "id": "v_qCuyq-o_bM"
   },
   "source": [
    "1.- Importar todos los elementos que necesiteis (0p)"
   ]
  },
  {
   "cell_type": "code",
   "execution_count": 1,
   "metadata": {
    "colab": {},
    "colab_type": "code",
    "id": "thbt7PEzoEY0"
   },
   "outputs": [],
   "source": [
    "import tensorflow as tf\n",
    "from tensorflow.keras.preprocessing.image import ImageDataGenerator\n",
    "\n",
    "import matplotlib.pyplot as plt\n",
    "import numpy as np\n",
    "import os\n",
    "\n",
    "from __future__ import print_function\n",
    "\n",
    "from tensorflow.keras.models import Sequential\n",
    "from tensorflow.keras.layers import Dense, Dropout, Flatten\n",
    "from tensorflow.keras.layers import Conv2D, MaxPooling2D\n",
    "from tensorflow.keras import backend as K\n",
    "import matplotlib.pyplot as plt\n",
    "import numpy as np"
   ]
  },
  {
   "cell_type": "code",
   "execution_count": 35,
   "metadata": {
    "colab": {},
    "colab_type": "code",
    "id": "krMZrfsIpJYg"
   },
   "outputs": [
    {
     "name": "stdout",
     "output_type": "stream",
     "text": [
      "C:\\Users\\corre\\Documents\\deepLearning\\ENTREGABLES\n",
      "1639\n",
      "1639\n",
      "{'jpg', 'jpeg', 'bmp'}\n",
      "{'jpg', 'jpeg', 'JPG', 'png'}\n"
     ]
    }
   ],
   "source": [
    "print(os.getcwd())\n",
    "PATH = 'dataset_cat_dog{}dataset_cat_dog'.format(os.path.sep)\n",
    "DOG_PATH = 'dataset_cat_dog{}dataset_cat_dog{}dog'.format(os.path.sep, os.path.sep)\n",
    "CATS_PATH = 'dataset_cat_dog{}dataset_cat_dog{}cat'.format(os.path.sep, os.path.sep)\n",
    "\n",
    "\n",
    "#file list, look after the file formats & items:\n",
    "mD = [DOG_PATH + name for name in os.listdir(DOG_PATH)]\n",
    "mC = [CATS_PATH + name for name in os.listdir(CATS_PATH)]\n",
    "print(len(mD))\n",
    "print(len(mC))\n",
    "\n",
    "def viewMeta(img):\n",
    "    formats = set()\n",
    "    for i in img:\n",
    "        formats.add(i.split('.')[-1])\n",
    "    return formats\n",
    "print(viewMeta(mD))\n",
    "print(viewMeta(mC))"
   ]
  },
  {
   "cell_type": "code",
   "execution_count": 29,
   "metadata": {
    "colab": {},
    "colab_type": "code",
    "id": "bzck2M3dpJbb"
   },
   "outputs": [
    {
     "name": "stdout",
     "output_type": "stream",
     "text": [
      "Found 2624 images belonging to 2 classes.\n",
      "Found 654 images belonging to 2 classes.\n"
     ]
    }
   ],
   "source": [
    "CLASS_NAMES = ['cat', 'dog']\n",
    "IMG_SIZE = (500, 500)\n",
    "BATCH_SIZE = 40\n",
    "datagen = ImageDataGenerator(horizontal_flip=True, rotation_range=40, validation_split=0.2)\n",
    "train_data = datagen.flow_from_directory(PATH, target_size=IMG_SIZE, classes=CLASS_NAMES, \n",
    "                                               batch_size=BATCH_SIZE, shuffle=True, subset='training')\n",
    "val_data = datagen.flow_from_directory(PATH, target_size=IMG_SIZE, classes=CLASS_NAMES, \n",
    "                                               batch_size=BATCH_SIZE, shuffle=True, subset='validation')"
   ]
  },
  {
   "cell_type": "code",
   "execution_count": null,
   "metadata": {
    "colab": {},
    "colab_type": "code",
    "id": "eGCDWVF6pfjQ"
   },
   "outputs": [],
   "source": []
  },
  {
   "cell_type": "code",
   "execution_count": null,
   "metadata": {},
   "outputs": [],
   "source": []
  },
  {
   "cell_type": "markdown",
   "metadata": {
    "colab_type": "text",
    "id": "83xk8yZDpKJY"
   },
   "source": [
    "2.- Construcción del dataset, se valorará la implementación de optimizaciones. (2p)"
   ]
  },
  {
   "cell_type": "code",
   "execution_count": null,
   "metadata": {
    "colab": {},
    "colab_type": "code",
    "id": "OwAKrxenpdR2"
   },
   "outputs": [],
   "source": []
  },
  {
   "cell_type": "code",
   "execution_count": null,
   "metadata": {
    "colab": {},
    "colab_type": "code",
    "id": "N2YwbOQCpd85"
   },
   "outputs": [],
   "source": []
  },
  {
   "cell_type": "code",
   "execution_count": null,
   "metadata": {
    "colab": {},
    "colab_type": "code",
    "id": "W24EHec8pdp0"
   },
   "outputs": [],
   "source": []
  },
  {
   "cell_type": "code",
   "execution_count": null,
   "metadata": {
    "colab": {},
    "colab_type": "code",
    "id": "bHYtrZSppdnX"
   },
   "outputs": [],
   "source": []
  },
  {
   "cell_type": "markdown",
   "metadata": {
    "colab_type": "text",
    "id": "4QbVjOFXpg1B"
   },
   "source": [
    "3.- Definición, Compilación y Muestra visual del vuestro modelo. (3p)"
   ]
  },
  {
   "cell_type": "code",
   "execution_count": null,
   "metadata": {
    "colab": {},
    "colab_type": "code",
    "id": "mSuCM7V9pwWk"
   },
   "outputs": [],
   "source": []
  },
  {
   "cell_type": "code",
   "execution_count": null,
   "metadata": {
    "colab": {},
    "colab_type": "code",
    "id": "PROUJ9vQpxDb"
   },
   "outputs": [],
   "source": []
  },
  {
   "cell_type": "code",
   "execution_count": null,
   "metadata": {
    "colab": {},
    "colab_type": "code",
    "id": "iVWUFS0Dpw-u"
   },
   "outputs": [],
   "source": []
  },
  {
   "cell_type": "code",
   "execution_count": null,
   "metadata": {
    "colab": {},
    "colab_type": "code",
    "id": "bb2yZi9ypw52"
   },
   "outputs": [],
   "source": []
  },
  {
   "cell_type": "markdown",
   "metadata": {
    "colab_type": "text",
    "id": "V1fuNfh4p8w2"
   },
   "source": [
    "4.- Definid 3 callbacks para utilizarlos posteriormente en la fase de entrenamiento. (1p)"
   ]
  },
  {
   "cell_type": "code",
   "execution_count": null,
   "metadata": {
    "colab": {},
    "colab_type": "code",
    "id": "Rd_j7nWKqOcm"
   },
   "outputs": [],
   "source": []
  },
  {
   "cell_type": "code",
   "execution_count": null,
   "metadata": {
    "colab": {},
    "colab_type": "code",
    "id": "yZGPMbb4qO-O"
   },
   "outputs": [],
   "source": []
  },
  {
   "cell_type": "code",
   "execution_count": null,
   "metadata": {
    "colab": {},
    "colab_type": "code",
    "id": "Go595ag2qO28"
   },
   "outputs": [],
   "source": []
  },
  {
   "cell_type": "code",
   "execution_count": null,
   "metadata": {
    "colab": {},
    "colab_type": "code",
    "id": "zqoq-5OMqOuo"
   },
   "outputs": [],
   "source": []
  },
  {
   "cell_type": "markdown",
   "metadata": {
    "colab_type": "text",
    "id": "ahjW7gDSqPcv"
   },
   "source": [
    "5.- Entrenad vuestro modelo haciendo uso de los callbacks del ejercicio anterior. (2p)"
   ]
  },
  {
   "cell_type": "code",
   "execution_count": null,
   "metadata": {
    "colab": {},
    "colab_type": "code",
    "id": "1DzTyjabrE6m"
   },
   "outputs": [],
   "source": []
  },
  {
   "cell_type": "code",
   "execution_count": null,
   "metadata": {
    "colab": {},
    "colab_type": "code",
    "id": "GpvJ0y5prFlT"
   },
   "outputs": [],
   "source": []
  },
  {
   "cell_type": "code",
   "execution_count": null,
   "metadata": {
    "colab": {},
    "colab_type": "code",
    "id": "2NxzwtFcrFei"
   },
   "outputs": [],
   "source": []
  },
  {
   "cell_type": "code",
   "execution_count": null,
   "metadata": {
    "colab": {},
    "colab_type": "code",
    "id": "KTMAxZUnrFT2"
   },
   "outputs": [],
   "source": []
  },
  {
   "cell_type": "markdown",
   "metadata": {
    "colab_type": "text",
    "id": "eWJrKA7brJB8"
   },
   "source": [
    "6.- Probad que vuestro modelo funciona pasandole un ejemplo del dataset. (1p)"
   ]
  },
  {
   "cell_type": "code",
   "execution_count": null,
   "metadata": {
    "colab": {},
    "colab_type": "code",
    "id": "bMErFiG-rJtY"
   },
   "outputs": [],
   "source": []
  },
  {
   "cell_type": "code",
   "execution_count": null,
   "metadata": {
    "colab": {},
    "colab_type": "code",
    "id": "0OdaKec2rbcK"
   },
   "outputs": [],
   "source": []
  },
  {
   "cell_type": "code",
   "execution_count": null,
   "metadata": {
    "colab": {},
    "colab_type": "code",
    "id": "mlPsBlUirbZ_"
   },
   "outputs": [],
   "source": []
  },
  {
   "cell_type": "code",
   "execution_count": null,
   "metadata": {
    "colab": {},
    "colab_type": "code",
    "id": "p8-Kh-IbrbW4"
   },
   "outputs": [],
   "source": []
  },
  {
   "cell_type": "markdown",
   "metadata": {
    "colab_type": "text",
    "id": "582eiARFrcax"
   },
   "source": [
    "7.- Mostrad las gráficas de entrenamiento y test empleando las variables accuracy, val_accuracy, loss y val_loss (1p)"
   ]
  },
  {
   "cell_type": "code",
   "execution_count": null,
   "metadata": {
    "colab": {},
    "colab_type": "code",
    "id": "xNLBZKuLsPDA"
   },
   "outputs": [],
   "source": []
  },
  {
   "cell_type": "code",
   "execution_count": null,
   "metadata": {
    "colab": {},
    "colab_type": "code",
    "id": "AKS-wlR-sOzg"
   },
   "outputs": [],
   "source": []
  },
  {
   "cell_type": "code",
   "execution_count": null,
   "metadata": {
    "colab": {},
    "colab_type": "code",
    "id": "fHgJCyFEsOm1"
   },
   "outputs": [],
   "source": []
  },
  {
   "cell_type": "code",
   "execution_count": null,
   "metadata": {
    "colab": {},
    "colab_type": "code",
    "id": "qSNizFYmsOXj"
   },
   "outputs": [],
   "source": []
  }
 ],
 "metadata": {
  "colab": {
   "authorship_tag": "ABX9TyPnm9TQKNw2HF2vlcPj3g2v",
   "collapsed_sections": [],
   "name": "DLQ2_2020_Entregable1.ipynb",
   "provenance": []
  },
  "kernelspec": {
   "display_name": "Python 3",
   "language": "python",
   "name": "python3"
  },
  "language_info": {
   "codemirror_mode": {
    "name": "ipython",
    "version": 3
   },
   "file_extension": ".py",
   "mimetype": "text/x-python",
   "name": "python",
   "nbconvert_exporter": "python",
   "pygments_lexer": "ipython3",
   "version": "3.8.3"
  }
 },
 "nbformat": 4,
 "nbformat_minor": 4
}
