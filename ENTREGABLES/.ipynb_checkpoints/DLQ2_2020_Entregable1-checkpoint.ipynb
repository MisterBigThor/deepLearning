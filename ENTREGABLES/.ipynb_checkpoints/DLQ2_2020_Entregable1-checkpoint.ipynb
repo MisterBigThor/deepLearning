{
 "cells": [
  {
   "cell_type": "markdown",
   "metadata": {
    "colab_type": "text",
    "id": "HlYfEc-IoGRm"
   },
   "source": [
    "**Ejercicio entregable 1**"
   ]
  },
  {
   "cell_type": "markdown",
   "metadata": {
    "colab_type": "text",
    "id": "zU338LCBoOe9"
   },
   "source": [
    "El documento está orientado a la realización de una red DCNN que permita clasificar entre imágenes de perros y gatos.\n",
    "Para ello, se han definido todos los pasos que debereís dar y la puntuación de los mismos"
   ]
  },
  {
   "cell_type": "markdown",
   "metadata": {
    "colab_type": "text",
    "id": "v_qCuyq-o_bM"
   },
   "source": [
    "1.- Importar todos los elementos que necesiteis (0p)"
   ]
  },
  {
   "cell_type": "code",
   "execution_count": 5,
   "metadata": {
    "colab": {},
    "colab_type": "code",
    "id": "thbt7PEzoEY0"
   },
   "outputs": [],
   "source": [
    "import tensorflow as tf\n",
    "from tensorflow.keras.preprocessing.image import ImageDataGenerator\n",
    "\n",
    "import matplotlib.pyplot as plt\n",
    "import numpy as np\n",
    "import os\n",
    "\n",
    "from sklearn.model_selection import train_test_split\n",
    "\n",
    "from __future__ import print_function\n",
    "\n",
    "from tensorflow.keras.models import Sequential\n",
    "from tensorflow.keras.layers import Dense, Dropout, Flatten\n",
    "from tensorflow.keras.layers import Conv2D, MaxPooling2D\n",
    "from tensorflow.keras import backend as K\n",
    "import matplotlib.pyplot as plt\n",
    "import numpy as np"
   ]
  },
  {
   "cell_type": "code",
   "execution_count": 6,
   "metadata": {
    "colab": {},
    "colab_type": "code",
    "id": "krMZrfsIpJYg"
   },
   "outputs": [
    {
     "name": "stdout",
     "output_type": "stream",
     "text": [
      "C:\\Users\\corre\\Documents\\deepLearning\\ENTREGABLES\n",
      "dataset_cat_dog\\dog\\\n",
      "1639\n",
      "1639\n",
      "{'jpg': 40, 'bmp': 1, 'jpeg': 1598}\n",
      "{'jpeg': 1082, 'jpg': 549, 'JPG': 7, 'png': 1}\n"
     ]
    }
   ],
   "source": [
    "print(os.getcwd())\n",
    "PATH = 'dataset_cat_dog'\n",
    "DOG_PATH = PATH + os.path.sep + 'dog'+ os.path.sep\n",
    "CAT_PATH = PATH + os.path.sep + 'cat' + os.path.sep\n",
    "print(DOG_PATH)\n",
    "#quick view of the data:\n",
    "mD = [DOG_PATH + name for name in os.listdir(DOG_PATH)]\n",
    "mC = [CAT_PATH + name for name in os.listdir(CAT_PATH)]\n",
    "print(len(mD))\n",
    "print(len(mC))\n",
    "\n",
    "viewExtension = lambda name : name.split('.')[-1]\n",
    "extDogs, extCats = {}, {}\n",
    "\n",
    "for item in mD:\n",
    "    k = str(viewExtension(item))\n",
    "    if k in extDogs : extDogs[k] += 1\n",
    "    else :extDogs[k] = 1\n",
    "        \n",
    "for item in mC:\n",
    "    k = str(viewExtension(item))\n",
    "    if k in extCats : extCats[k] += 1\n",
    "    else :extCats[k] = 1\n",
    "\n",
    "print(extDogs)\n",
    "print(extCats)"
   ]
  },
  {
   "cell_type": "markdown",
   "metadata": {
    "colab_type": "text",
    "id": "83xk8yZDpKJY"
   },
   "source": [
    "2.- Construcción del dataset, se valorará la implementación de optimizaciones. (2p)"
   ]
  },
  {
   "cell_type": "code",
   "execution_count": 7,
   "metadata": {
    "colab": {},
    "colab_type": "code",
    "id": "OwAKrxenpdR2"
   },
   "outputs": [],
   "source": [
    "CLASS_N = ['dog' , 'cat']\n",
    "def locate_img():\n",
    "    X_dogs = [DOG_PATH + name for name in os.listdir(DOG_PATH)]\n",
    "    X_cats = [CAT_PATH + name for name in os.listdir(CAT_PATH)]\n",
    "    print('Pictures located --> dogs = {} , cats = {}'.format(len(X_dogs), len(X_cats)))\n",
    "    X = X_dogs + X_cats\n",
    "    Y = []\n",
    "    for i in X:\n",
    "        Y.append(get_label(X))\n",
    "    return X, Y\n",
    "\n",
    "def get_label(file_path):\n",
    "    p = tf.strings.split(file_path, os.path.sep)\n",
    "\n",
    "    return p[-2] == CLASS_N\n",
    "\n",
    "def _load_image(filename):\n",
    "    img = tf.io.read_file(filename)\n",
    "    img = tf.image.decode_image(img)\n",
    "    img = tf.cast(img, tf.float32)/255\n",
    "    #img = tf.image.resize(img, (IMAGE_SIZE, IMAGE_SIZE))\n",
    "    return img\n",
    "def process(file_path):\n",
    "    label = get_label(file_path)\n",
    "    img = _load_image(file_path)\n",
    "    return img, label"
   ]
  },
  {
   "cell_type": "code",
   "execution_count": null,
   "metadata": {
    "colab": {},
    "colab_type": "code",
    "id": "N2YwbOQCpd85"
   },
   "outputs": [
    {
     "name": "stdout",
     "output_type": "stream",
     "text": [
      "Pictures located --> dogs = 1639 , cats = 1639\n"
     ]
    }
   ],
   "source": [
    "BATCH_SIZE = 16\n",
    "X, Y= locate_img()\n",
    "\n",
    "train_dataset = tf.data.Dataset.from_tensor_slices((tf.constant(X_train)))\n",
    "test_dataset = tf.data.Dataset.from_tensor_slices((tf.constant(X_test)))\n",
    "\n",
    "#ds_train = (train_dataset.map(process).shuffle(buffer_size=3500).batch(BATCH_SIZE))\n",
    "#ds_test = (test_dataset.map(process).shuffle(buffer_size=3500).batch(BATCH_SIZE))\n"
   ]
  },
  {
   "cell_type": "code",
   "execution_count": null,
   "metadata": {},
   "outputs": [],
   "source": []
  },
  {
   "cell_type": "code",
   "execution_count": null,
   "metadata": {
    "colab": {},
    "colab_type": "code",
    "id": "W24EHec8pdp0"
   },
   "outputs": [],
   "source": []
  },
  {
   "cell_type": "code",
   "execution_count": null,
   "metadata": {
    "colab": {},
    "colab_type": "code",
    "id": "bHYtrZSppdnX"
   },
   "outputs": [],
   "source": []
  },
  {
   "cell_type": "markdown",
   "metadata": {
    "colab_type": "text",
    "id": "4QbVjOFXpg1B"
   },
   "source": [
    "3.- Definición, Compilación y Muestra visual del vuestro modelo. (3p)"
   ]
  },
  {
   "cell_type": "code",
   "execution_count": null,
   "metadata": {
    "colab": {},
    "colab_type": "code",
    "id": "mSuCM7V9pwWk"
   },
   "outputs": [],
   "source": [
    "def show_item(example):\n",
    "  plt.figure()\n",
    "  plt.imshow(np.reshape(example,(28,28)))\n",
    "  plt.colorbar()\n",
    "  plt.grid(False)\n",
    "  plt.show()\n",
    "show_item(x_train[0])\n",
    "print(y_train[0])"
   ]
  },
  {
   "cell_type": "code",
   "execution_count": null,
   "metadata": {
    "colab": {},
    "colab_type": "code",
    "id": "PROUJ9vQpxDb"
   },
   "outputs": [],
   "source": []
  },
  {
   "cell_type": "code",
   "execution_count": null,
   "metadata": {
    "colab": {},
    "colab_type": "code",
    "id": "iVWUFS0Dpw-u"
   },
   "outputs": [],
   "source": []
  },
  {
   "cell_type": "code",
   "execution_count": null,
   "metadata": {
    "colab": {},
    "colab_type": "code",
    "id": "bb2yZi9ypw52"
   },
   "outputs": [],
   "source": []
  },
  {
   "cell_type": "markdown",
   "metadata": {
    "colab_type": "text",
    "id": "V1fuNfh4p8w2"
   },
   "source": [
    "4.- Definid 3 callbacks para utilizarlos posteriormente en la fase de entrenamiento. (1p)"
   ]
  },
  {
   "cell_type": "code",
   "execution_count": null,
   "metadata": {
    "colab": {},
    "colab_type": "code",
    "id": "Rd_j7nWKqOcm"
   },
   "outputs": [],
   "source": []
  },
  {
   "cell_type": "code",
   "execution_count": null,
   "metadata": {
    "colab": {},
    "colab_type": "code",
    "id": "yZGPMbb4qO-O"
   },
   "outputs": [],
   "source": []
  },
  {
   "cell_type": "code",
   "execution_count": null,
   "metadata": {
    "colab": {},
    "colab_type": "code",
    "id": "Go595ag2qO28"
   },
   "outputs": [],
   "source": []
  },
  {
   "cell_type": "code",
   "execution_count": null,
   "metadata": {
    "colab": {},
    "colab_type": "code",
    "id": "zqoq-5OMqOuo"
   },
   "outputs": [],
   "source": []
  },
  {
   "cell_type": "markdown",
   "metadata": {
    "colab_type": "text",
    "id": "ahjW7gDSqPcv"
   },
   "source": [
    "5.- Entrenad vuestro modelo haciendo uso de los callbacks del ejercicio anterior. (2p)"
   ]
  },
  {
   "cell_type": "code",
   "execution_count": null,
   "metadata": {
    "colab": {},
    "colab_type": "code",
    "id": "1DzTyjabrE6m"
   },
   "outputs": [],
   "source": []
  },
  {
   "cell_type": "code",
   "execution_count": null,
   "metadata": {
    "colab": {},
    "colab_type": "code",
    "id": "GpvJ0y5prFlT"
   },
   "outputs": [],
   "source": []
  },
  {
   "cell_type": "code",
   "execution_count": null,
   "metadata": {
    "colab": {},
    "colab_type": "code",
    "id": "2NxzwtFcrFei"
   },
   "outputs": [],
   "source": []
  },
  {
   "cell_type": "code",
   "execution_count": null,
   "metadata": {
    "colab": {},
    "colab_type": "code",
    "id": "KTMAxZUnrFT2"
   },
   "outputs": [],
   "source": []
  },
  {
   "cell_type": "markdown",
   "metadata": {
    "colab_type": "text",
    "id": "eWJrKA7brJB8"
   },
   "source": [
    "6.- Probad que vuestro modelo funciona pasandole un ejemplo del dataset. (1p)"
   ]
  },
  {
   "cell_type": "code",
   "execution_count": null,
   "metadata": {
    "colab": {},
    "colab_type": "code",
    "id": "bMErFiG-rJtY"
   },
   "outputs": [],
   "source": []
  },
  {
   "cell_type": "code",
   "execution_count": null,
   "metadata": {
    "colab": {},
    "colab_type": "code",
    "id": "0OdaKec2rbcK"
   },
   "outputs": [],
   "source": []
  },
  {
   "cell_type": "code",
   "execution_count": null,
   "metadata": {
    "colab": {},
    "colab_type": "code",
    "id": "mlPsBlUirbZ_"
   },
   "outputs": [],
   "source": []
  },
  {
   "cell_type": "code",
   "execution_count": null,
   "metadata": {
    "colab": {},
    "colab_type": "code",
    "id": "p8-Kh-IbrbW4"
   },
   "outputs": [],
   "source": []
  },
  {
   "cell_type": "markdown",
   "metadata": {
    "colab_type": "text",
    "id": "582eiARFrcax"
   },
   "source": [
    "7.- Mostrad las gráficas de entrenamiento y test empleando las variables accuracy, val_accuracy, loss y val_loss (1p)"
   ]
  },
  {
   "cell_type": "code",
   "execution_count": null,
   "metadata": {
    "colab": {},
    "colab_type": "code",
    "id": "xNLBZKuLsPDA"
   },
   "outputs": [],
   "source": []
  },
  {
   "cell_type": "code",
   "execution_count": null,
   "metadata": {
    "colab": {},
    "colab_type": "code",
    "id": "AKS-wlR-sOzg"
   },
   "outputs": [],
   "source": []
  },
  {
   "cell_type": "code",
   "execution_count": null,
   "metadata": {
    "colab": {},
    "colab_type": "code",
    "id": "fHgJCyFEsOm1"
   },
   "outputs": [],
   "source": []
  },
  {
   "cell_type": "code",
   "execution_count": null,
   "metadata": {
    "colab": {},
    "colab_type": "code",
    "id": "qSNizFYmsOXj"
   },
   "outputs": [],
   "source": []
  }
 ],
 "metadata": {
  "colab": {
   "authorship_tag": "ABX9TyPnm9TQKNw2HF2vlcPj3g2v",
   "collapsed_sections": [],
   "name": "DLQ2_2020_Entregable1.ipynb",
   "provenance": []
  },
  "kernelspec": {
   "display_name": "Python 3",
   "language": "python",
   "name": "python3"
  },
  "language_info": {
   "codemirror_mode": {
    "name": "ipython",
    "version": 3
   },
   "file_extension": ".py",
   "mimetype": "text/x-python",
   "name": "python",
   "nbconvert_exporter": "python",
   "pygments_lexer": "ipython3",
   "version": "3.8.3"
  }
 },
 "nbformat": 4,
 "nbformat_minor": 4
}
