{
  "nbformat": 4,
  "nbformat_minor": 0,
  "metadata": {
    "kernelspec": {
      "display_name": "Python 3",
      "language": "python",
      "name": "python3"
    },
    "language_info": {
      "codemirror_mode": {
        "name": "ipython",
        "version": 3
      },
      "file_extension": ".py",
      "mimetype": "text/x-python",
      "name": "python",
      "nbconvert_exporter": "python",
      "pygments_lexer": "ipython3",
      "version": "3.7.4"
    },
    "colab": {
      "name": "PythonBasics.ipynb",
      "provenance": [],
      "include_colab_link": true
    }
  },
  "cells": [
    {
      "cell_type": "markdown",
      "metadata": {
        "id": "view-in-github",
        "colab_type": "text"
      },
      "source": [
        "<a href=\"https://colab.research.google.com/github/MisterBigThor/deepLearning/blob/master/PythonBasics.ipynb\" target=\"_parent\"><img src=\"https://colab.research.google.com/assets/colab-badge.svg\" alt=\"Open In Colab\"/></a>"
      ]
    },
    {
      "cell_type": "markdown",
      "metadata": {
        "id": "3Lx6h7GDf3Go",
        "colab_type": "text"
      },
      "source": [
        "## Operaciones básicas"
      ]
    },
    {
      "cell_type": "code",
      "metadata": {
        "id": "-RTXdO77f3Gq",
        "colab_type": "code",
        "colab": {}
      },
      "source": [
        "1 + 1"
      ],
      "execution_count": null,
      "outputs": []
    },
    {
      "cell_type": "code",
      "metadata": {
        "id": "Emg-e7vKf3Gu",
        "colab_type": "code",
        "colab": {}
      },
      "source": [
        "1 * 3"
      ],
      "execution_count": null,
      "outputs": []
    },
    {
      "cell_type": "code",
      "metadata": {
        "id": "0o3d6R89f3Gw",
        "colab_type": "code",
        "colab": {}
      },
      "source": [
        "1 / 2"
      ],
      "execution_count": null,
      "outputs": []
    },
    {
      "cell_type": "code",
      "metadata": {
        "id": "7yr-UQGaf3Gx",
        "colab_type": "code",
        "colab": {}
      },
      "source": [
        "2 ** 4"
      ],
      "execution_count": null,
      "outputs": []
    },
    {
      "cell_type": "code",
      "metadata": {
        "id": "YVBNkvuhf3Gz",
        "colab_type": "code",
        "colab": {}
      },
      "source": [
        "4 % 2"
      ],
      "execution_count": null,
      "outputs": []
    },
    {
      "cell_type": "markdown",
      "metadata": {
        "id": "sKlflSOCf3G1",
        "colab_type": "text"
      },
      "source": [
        "## Booleans"
      ]
    },
    {
      "cell_type": "code",
      "metadata": {
        "id": "LPBZbdYqf3G2",
        "colab_type": "code",
        "colab": {}
      },
      "source": [
        "True"
      ],
      "execution_count": null,
      "outputs": []
    },
    {
      "cell_type": "code",
      "metadata": {
        "id": "gkaXI9G2f3G3",
        "colab_type": "code",
        "colab": {}
      },
      "source": [
        "False"
      ],
      "execution_count": null,
      "outputs": []
    },
    {
      "cell_type": "markdown",
      "metadata": {
        "id": "7ZkP6iXHf3G5",
        "colab_type": "text"
      },
      "source": [
        "## Variables"
      ]
    },
    {
      "cell_type": "code",
      "metadata": {
        "id": "8EyLooV3f3G6",
        "colab_type": "code",
        "colab": {
          "base_uri": "https://localhost:8080/",
          "height": 35
        },
        "outputId": "bd154362-9ef9-4b97-f7db-ba0b0b371bde"
      },
      "source": [
        "nombre = \"paco\"\n",
        "nombre"
      ],
      "execution_count": 1,
      "outputs": [
        {
          "output_type": "execute_result",
          "data": {
            "application/vnd.google.colaboratory.intrinsic": {
              "type": "string"
            },
            "text/plain": [
              "'paco'"
            ]
          },
          "metadata": {
            "tags": []
          },
          "execution_count": 1
        }
      ]
    },
    {
      "cell_type": "code",
      "metadata": {
        "id": "YJLM_youf3G7",
        "colab_type": "code",
        "colab": {}
      },
      "source": [
        "x = 3\n",
        "y = 2\n",
        "z = x**2 + y\n",
        "z"
      ],
      "execution_count": null,
      "outputs": []
    },
    {
      "cell_type": "code",
      "metadata": {
        "id": "LSeuSCoCf3G9",
        "colab_type": "code",
        "colab": {}
      },
      "source": [
        "# No se pueden emplear nombres de variables que empiecen con un número o un símbolo\n",
        "3num = 3"
      ],
      "execution_count": null,
      "outputs": []
    },
    {
      "cell_type": "code",
      "metadata": {
        "id": "FGmjDf_Xf3G_",
        "colab_type": "code",
        "colab": {
          "base_uri": "https://localhost:8080/",
          "height": 34
        },
        "outputId": "9ae4622d-6e70-4799-f626-0ccc40aaff8c"
      },
      "source": [
        "# Existe la asignación multiple\n",
        "a = b = c = 1\n",
        "print(\"a={}, b={}, c={}\".format(a,b,c))"
      ],
      "execution_count": 2,
      "outputs": [
        {
          "output_type": "stream",
          "text": [
            "a=1, b=1, c=1\n"
          ],
          "name": "stdout"
        }
      ]
    },
    {
      "cell_type": "markdown",
      "metadata": {
        "id": "wTKdhZc2f3HB",
        "colab_type": "text"
      },
      "source": [
        "## Comparaciones básicas"
      ]
    },
    {
      "cell_type": "code",
      "metadata": {
        "id": "00zGEptUf3HB",
        "colab_type": "code",
        "colab": {}
      },
      "source": [
        "a = 1\n",
        "b = 2\n",
        "a == b"
      ],
      "execution_count": null,
      "outputs": []
    },
    {
      "cell_type": "code",
      "metadata": {
        "id": "l4Qcggxpf3HD",
        "colab_type": "code",
        "colab": {}
      },
      "source": [
        "a != b"
      ],
      "execution_count": null,
      "outputs": []
    },
    {
      "cell_type": "code",
      "metadata": {
        "id": "1vyMPuJGf3HF",
        "colab_type": "code",
        "colab": {}
      },
      "source": [
        "a < b"
      ],
      "execution_count": null,
      "outputs": []
    },
    {
      "cell_type": "code",
      "metadata": {
        "id": "EwnWvjJCf3HH",
        "colab_type": "code",
        "colab": {}
      },
      "source": [
        "a > b"
      ],
      "execution_count": null,
      "outputs": []
    },
    {
      "cell_type": "code",
      "metadata": {
        "id": "a-Qb12lQf3HI",
        "colab_type": "code",
        "colab": {}
      },
      "source": [
        "a <> b # Obsoleto en Python 3 - Mismo comportamiento que !="
      ],
      "execution_count": null,
      "outputs": []
    },
    {
      "cell_type": "code",
      "metadata": {
        "id": "AGN6HiWdf3HK",
        "colab_type": "code",
        "colab": {}
      },
      "source": [
        "a <= b"
      ],
      "execution_count": null,
      "outputs": []
    },
    {
      "cell_type": "code",
      "metadata": {
        "id": "A6vxNM78f3HM",
        "colab_type": "code",
        "colab": {}
      },
      "source": [
        "a >= b"
      ],
      "execution_count": null,
      "outputs": []
    },
    {
      "cell_type": "markdown",
      "metadata": {
        "id": "0aNU-Aq3f3HP",
        "colab_type": "text"
      },
      "source": [
        "## Strings"
      ]
    },
    {
      "cell_type": "code",
      "metadata": {
        "id": "InO4Qat5f3HP",
        "colab_type": "code",
        "colab": {}
      },
      "source": [
        "st = 'Hello World!'\n",
        "print(st)          # Muestra la cadena de texto completa"
      ],
      "execution_count": null,
      "outputs": []
    },
    {
      "cell_type": "code",
      "metadata": {
        "id": "bqwrf-pVf3HT",
        "colab_type": "code",
        "colab": {}
      },
      "source": [
        "print(st[0])       # Muestra únicamente el primer elemento de la cadena"
      ],
      "execution_count": null,
      "outputs": []
    },
    {
      "cell_type": "code",
      "metadata": {
        "id": "xFpRwMy-f3HW",
        "colab_type": "code",
        "colab": {}
      },
      "source": [
        "print(st[2:5])     # Muestra sólo los caracteres comprendidos entre las posiciones 3 a 5"
      ],
      "execution_count": null,
      "outputs": []
    },
    {
      "cell_type": "code",
      "metadata": {
        "id": "4Drk4dgPf3HX",
        "colab_type": "code",
        "colab": {}
      },
      "source": [
        "print(st[2:])      # Muestra los caracteres a partir de la tercera posición"
      ],
      "execution_count": null,
      "outputs": []
    },
    {
      "cell_type": "code",
      "metadata": {
        "id": "ALdiq9dpf3HZ",
        "colab_type": "code",
        "colab": {}
      },
      "source": [
        "print(st * 2)      # Muestra 2 veces la cadena de texto"
      ],
      "execution_count": null,
      "outputs": []
    },
    {
      "cell_type": "code",
      "metadata": {
        "id": "kNlqJFMkf3Ha",
        "colab_type": "code",
        "colab": {}
      },
      "source": [
        "print(st + \"TEST\") # Muestra la concatenación"
      ],
      "execution_count": null,
      "outputs": []
    },
    {
      "cell_type": "code",
      "metadata": {
        "id": "HyX2hVLRf3Hc",
        "colab_type": "code",
        "colab": {}
      },
      "source": [
        "'single quotes'"
      ],
      "execution_count": null,
      "outputs": []
    },
    {
      "cell_type": "code",
      "metadata": {
        "id": "pFB8csu0f3Hd",
        "colab_type": "code",
        "colab": {}
      },
      "source": [
        "\"double quotes\""
      ],
      "execution_count": null,
      "outputs": []
    },
    {
      "cell_type": "markdown",
      "metadata": {
        "id": "OgI6L5Msf3Hf",
        "colab_type": "text"
      },
      "source": [
        "## Printing"
      ]
    },
    {
      "cell_type": "code",
      "metadata": {
        "id": "g_rap4Imf3Hf",
        "colab_type": "code",
        "colab": {}
      },
      "source": [
        "print('My number is: {one}, and my name is: {two}'.format(two=\"paco\",one=1))"
      ],
      "execution_count": null,
      "outputs": []
    },
    {
      "cell_type": "code",
      "metadata": {
        "id": "v9UUsyV8f3Hg",
        "colab_type": "code",
        "colab": {}
      },
      "source": [
        "print('My number is: {}, and my name is: {}'.format(1,\"paco\"))"
      ],
      "execution_count": null,
      "outputs": []
    },
    {
      "cell_type": "code",
      "metadata": {
        "id": "9COD1JiCf3Hi",
        "colab_type": "code",
        "colab": {}
      },
      "source": [
        "'My number is: {one}, and my name is: {two}'.format(one=1,two=\"paco\")"
      ],
      "execution_count": null,
      "outputs": []
    },
    {
      "cell_type": "markdown",
      "metadata": {
        "id": "W4hOWDNWf3Hk",
        "colab_type": "text"
      },
      "source": [
        "## Listas"
      ]
    },
    {
      "cell_type": "code",
      "metadata": {
        "id": "n__ZHTsHf3Hk",
        "colab_type": "code",
        "colab": {}
      },
      "source": [
        "l = [ 'abcd', 786 , 2.23, 'john', 70.2 ]\n",
        "tinyl = [123, 'john']\n",
        "\n",
        "print(l)          # Muestra la lista completa"
      ],
      "execution_count": null,
      "outputs": []
    },
    {
      "cell_type": "code",
      "metadata": {
        "id": "2voqgq_Lf3Hn",
        "colab_type": "code",
        "colab": {}
      },
      "source": [
        "print(l[0])       # Muestra el primer elemento de la lista"
      ],
      "execution_count": null,
      "outputs": []
    },
    {
      "cell_type": "code",
      "metadata": {
        "id": "TmyLdj0If3Ho",
        "colab_type": "code",
        "colab": {}
      },
      "source": [
        "print(l[1:3])     # Muestra los elementos seleccionados de la lista"
      ],
      "execution_count": null,
      "outputs": []
    },
    {
      "cell_type": "code",
      "metadata": {
        "id": "2IhK-TWMf3Hq",
        "colab_type": "code",
        "colab": {}
      },
      "source": [
        "print(l[2:])      # Muestra la lista a partir del 3er elemento"
      ],
      "execution_count": null,
      "outputs": []
    },
    {
      "cell_type": "code",
      "metadata": {
        "id": "3g-Dw9dhf3Hr",
        "colab_type": "code",
        "colab": {}
      },
      "source": [
        "print(tinyl * 2)  # Muestra 2 veces la lista\n",
        "print(2* tinyl)"
      ],
      "execution_count": null,
      "outputs": []
    },
    {
      "cell_type": "code",
      "metadata": {
        "id": "z_FBG9T9f3Ht",
        "colab_type": "code",
        "colab": {}
      },
      "source": [
        "print(l + tinyl)  # Realiza la concatenación"
      ],
      "execution_count": null,
      "outputs": []
    },
    {
      "cell_type": "code",
      "metadata": {
        "id": "_9AgX3EJf3Hv",
        "colab_type": "code",
        "colab": {}
      },
      "source": [
        "l[2] = 99\n",
        "print(l)"
      ],
      "execution_count": null,
      "outputs": []
    },
    {
      "cell_type": "code",
      "metadata": {
        "id": "peW7xzyZf3Hx",
        "colab_type": "code",
        "colab": {}
      },
      "source": [
        "nest = [1,2,3,[4,5,['target']]]\n",
        "nest[3][2][0]"
      ],
      "execution_count": null,
      "outputs": []
    },
    {
      "cell_type": "code",
      "metadata": {
        "id": "_fRzDZodf3Hy",
        "colab_type": "code",
        "colab": {}
      },
      "source": [
        "len(nest[3])"
      ],
      "execution_count": null,
      "outputs": []
    },
    {
      "cell_type": "code",
      "metadata": {
        "id": "tPBeO75Kf3H0",
        "colab_type": "code",
        "colab": {}
      },
      "source": [
        "print(nest[-2]) # Indexado negativo"
      ],
      "execution_count": null,
      "outputs": []
    },
    {
      "cell_type": "markdown",
      "metadata": {
        "id": "EHKneFLgf3H2",
        "colab_type": "text"
      },
      "source": [
        "## Operaciones con listas"
      ]
    },
    {
      "cell_type": "code",
      "metadata": {
        "id": "7LYD0H87f3H2",
        "colab_type": "code",
        "colab": {}
      },
      "source": [
        "lista = [3,4,5,2,1]\n",
        "lista.sort()\n",
        "print(lista)"
      ],
      "execution_count": null,
      "outputs": []
    },
    {
      "cell_type": "code",
      "metadata": {
        "id": "AJahz4iDf3H4",
        "colab_type": "code",
        "colab": {}
      },
      "source": [
        "lista = [3,4,5,2,1]\n",
        "lista.reverse()\n",
        "print(lista)"
      ],
      "execution_count": null,
      "outputs": []
    },
    {
      "cell_type": "code",
      "metadata": {
        "id": "5sdQEY1if3H6",
        "colab_type": "code",
        "colab": {}
      },
      "source": [
        "lista = [3,4,5,2,1]\n",
        "lista.append([[1,2,3]])\n",
        "print(lista)"
      ],
      "execution_count": null,
      "outputs": []
    },
    {
      "cell_type": "code",
      "metadata": {
        "id": "CDLENYwff3H8",
        "colab_type": "code",
        "colab": {}
      },
      "source": [
        "lista = [3,4,5,2,1]\n",
        "lista.pop()\n",
        "print(lista)"
      ],
      "execution_count": null,
      "outputs": []
    },
    {
      "cell_type": "code",
      "metadata": {
        "id": "iNpd_zCKf3IA",
        "colab_type": "code",
        "colab": {}
      },
      "source": [
        "lista = [3,4,5,2,1,2,8,7,2]\n",
        "print(lista.count(2))"
      ],
      "execution_count": null,
      "outputs": []
    },
    {
      "cell_type": "code",
      "metadata": {
        "id": "EW4Sj1s3f3IC",
        "colab_type": "code",
        "colab": {}
      },
      "source": [
        "lista = [3,4,5,2,1]\n",
        "lista.insert(2, 9)\n",
        "print(lista)"
      ],
      "execution_count": null,
      "outputs": []
    },
    {
      "cell_type": "code",
      "metadata": {
        "id": "mk5blY5Af3IF",
        "colab_type": "code",
        "colab": {}
      },
      "source": [
        "la = ['a', 'b', 'c']\n",
        "lb = [1,2,3]\n",
        "la.extend(lb)\n",
        "print(la)"
      ],
      "execution_count": null,
      "outputs": []
    },
    {
      "cell_type": "markdown",
      "metadata": {
        "id": "3PUBYdiPf3IG",
        "colab_type": "text"
      },
      "source": [
        "## Comprehension"
      ]
    },
    {
      "cell_type": "code",
      "metadata": {
        "id": "ybP1P1H-f3IH",
        "colab_type": "code",
        "colab": {}
      },
      "source": [
        "x = [1,2,3,4]"
      ],
      "execution_count": null,
      "outputs": []
    },
    {
      "cell_type": "code",
      "metadata": {
        "id": "e-a2wT3Xf3IJ",
        "colab_type": "code",
        "colab": {}
      },
      "source": [
        "out = []\n",
        "for item in x:\n",
        "    out.append(item**2)\n",
        "print(out)"
      ],
      "execution_count": null,
      "outputs": []
    },
    {
      "cell_type": "code",
      "metadata": {
        "id": "BYmOwGNRf3IK",
        "colab_type": "code",
        "colab": {}
      },
      "source": [
        "[item**2 for item in x]"
      ],
      "execution_count": null,
      "outputs": []
    },
    {
      "cell_type": "markdown",
      "metadata": {
        "id": "HAGZXt5hf3IM",
        "colab_type": "text"
      },
      "source": [
        "## Diccionarios"
      ]
    },
    {
      "cell_type": "code",
      "metadata": {
        "id": "IiobRQGof3IN",
        "colab_type": "code",
        "colab": {}
      },
      "source": [
        "dict = {}\n",
        "dict['one'] = \"This is one\"\n",
        "dict[2]     = \"This is two\"\n",
        "tinydict = {'name': 'john','code':6734, 'dept': 'sales'}\n",
        "\n",
        "print(dict['one'])      # Muestra el valor para la clave 'one'"
      ],
      "execution_count": null,
      "outputs": []
    },
    {
      "cell_type": "code",
      "metadata": {
        "id": "aREZYiGZf3IP",
        "colab_type": "code",
        "colab": {}
      },
      "source": [
        "print(dict[2])           # Muestra el valor para la clave 2"
      ],
      "execution_count": null,
      "outputs": []
    },
    {
      "cell_type": "code",
      "metadata": {
        "id": "nikDU6xnf3IR",
        "colab_type": "code",
        "colab": {}
      },
      "source": [
        "tinydict         # Muestra el diccionario completo"
      ],
      "execution_count": null,
      "outputs": []
    },
    {
      "cell_type": "code",
      "metadata": {
        "id": "pWUWHOGQf3IS",
        "colab_type": "code",
        "colab": {}
      },
      "source": [
        "print(list(tinydict.keys()))   # Muestra todas las claves"
      ],
      "execution_count": null,
      "outputs": []
    },
    {
      "cell_type": "code",
      "metadata": {
        "id": "k4Oh6FMKf3IT",
        "colab_type": "code",
        "colab": {}
      },
      "source": [
        "print(tinydict.values()) # Muestra todos los valores"
      ],
      "execution_count": null,
      "outputs": []
    },
    {
      "cell_type": "code",
      "metadata": {
        "id": "urOPSdc5f3IU",
        "colab_type": "code",
        "colab": {}
      },
      "source": [
        "tinydict.items()"
      ],
      "execution_count": null,
      "outputs": []
    },
    {
      "cell_type": "markdown",
      "metadata": {
        "id": "hYGjpKD5f3IV",
        "colab_type": "text"
      },
      "source": [
        "## Tuplas"
      ]
    },
    {
      "cell_type": "code",
      "metadata": {
        "id": "uAkOjqzPf3IW",
        "colab_type": "code",
        "colab": {}
      },
      "source": [
        "tuple = ( 'abcd', 786 , 2.23, 'john', 70.2  )\n",
        "tinytuple = (123, 'john')\n",
        "\n",
        "print(tuple)           # Muestra la tupla completa"
      ],
      "execution_count": null,
      "outputs": []
    },
    {
      "cell_type": "code",
      "metadata": {
        "id": "SH77lRruf3IX",
        "colab_type": "code",
        "colab": {}
      },
      "source": [
        "print(tuple[0])        # Muestra el elemento seleccionado de la tupla"
      ],
      "execution_count": null,
      "outputs": []
    },
    {
      "cell_type": "code",
      "metadata": {
        "id": "lXDxLD-bf3IY",
        "colab_type": "code",
        "colab": {}
      },
      "source": [
        "print(tuple[1:3])      # Muestra los elementos seleccionados de la tupla"
      ],
      "execution_count": null,
      "outputs": []
    },
    {
      "cell_type": "code",
      "metadata": {
        "id": "QjAG2Lv5f3Ib",
        "colab_type": "code",
        "colab": {}
      },
      "source": [
        "print(tuple[2:])       # Muestra los elementos de la tupla a partir del tercero"
      ],
      "execution_count": null,
      "outputs": []
    },
    {
      "cell_type": "code",
      "metadata": {
        "id": "UqstEUcUf3Id",
        "colab_type": "code",
        "colab": {}
      },
      "source": [
        "print(tinytuple * 2)   # Muestra la tupla 2 veces"
      ],
      "execution_count": null,
      "outputs": []
    },
    {
      "cell_type": "code",
      "metadata": {
        "id": "KwByQIwIf3Ie",
        "colab_type": "code",
        "colab": {}
      },
      "source": [
        "print(tuple + tinytuple) # Realiza la concatenación de tuplas"
      ],
      "execution_count": null,
      "outputs": []
    },
    {
      "cell_type": "code",
      "metadata": {
        "id": "lKGKV_3Pf3Ig",
        "colab_type": "code",
        "colab": {}
      },
      "source": [
        "tuple[0] = 'failure'\n",
        "print(tuple)"
      ],
      "execution_count": null,
      "outputs": []
    },
    {
      "cell_type": "markdown",
      "metadata": {
        "id": "jCXLRfwsf3Ii",
        "colab_type": "text"
      },
      "source": [
        "## Sets"
      ]
    },
    {
      "cell_type": "code",
      "metadata": {
        "id": "3Ib4xleDf3Ii",
        "colab_type": "code",
        "colab": {}
      },
      "source": [
        "my_set = {1,2,3,4,3,2}\n",
        "print(my_set)"
      ],
      "execution_count": null,
      "outputs": []
    },
    {
      "cell_type": "code",
      "metadata": {
        "id": "NifyDCuWf3Ik",
        "colab_type": "code",
        "colab": {}
      },
      "source": [
        "my_set = set([1,2,3,2])\n",
        "print(my_set)"
      ],
      "execution_count": null,
      "outputs": []
    },
    {
      "cell_type": "markdown",
      "metadata": {
        "id": "V9YtNBXdf3Il",
        "colab_type": "text"
      },
      "source": [
        "## Conversión de tipos"
      ]
    },
    {
      "cell_type": "code",
      "metadata": {
        "id": "jUmRBtosf3Im",
        "colab_type": "code",
        "colab": {}
      },
      "source": [
        "int(\"1\",10)"
      ],
      "execution_count": null,
      "outputs": []
    },
    {
      "cell_type": "code",
      "metadata": {
        "id": "DxqEsX6bf3Ip",
        "colab_type": "code",
        "colab": {}
      },
      "source": [
        "int(23.6)"
      ],
      "execution_count": null,
      "outputs": []
    },
    {
      "cell_type": "code",
      "metadata": {
        "id": "hwSP2PvCf3Ir",
        "colab_type": "code",
        "colab": {}
      },
      "source": [
        "float(2)"
      ],
      "execution_count": null,
      "outputs": []
    },
    {
      "cell_type": "code",
      "metadata": {
        "id": "RvHBRArSf3Is",
        "colab_type": "code",
        "colab": {}
      },
      "source": [
        "float(\"12\")"
      ],
      "execution_count": null,
      "outputs": []
    },
    {
      "cell_type": "code",
      "metadata": {
        "id": "7Re8fxbHf3It",
        "colab_type": "code",
        "colab": {}
      },
      "source": [
        "str(3.5)"
      ],
      "execution_count": null,
      "outputs": []
    },
    {
      "cell_type": "code",
      "metadata": {
        "id": "pV-GFXjSf3Iv",
        "colab_type": "code",
        "colab": {}
      },
      "source": [
        "list('abcdefghijklmnopqrstuvwxyz')"
      ],
      "execution_count": null,
      "outputs": []
    },
    {
      "cell_type": "markdown",
      "metadata": {
        "id": "npDUm9AIf3Iy",
        "colab_type": "text"
      },
      "source": [
        "## Operadores Lógicos"
      ]
    },
    {
      "cell_type": "code",
      "metadata": {
        "id": "cXiL8GYqf3Iz",
        "colab_type": "code",
        "colab": {}
      },
      "source": [
        "(1 > 2) and (2 < 3)"
      ],
      "execution_count": null,
      "outputs": []
    },
    {
      "cell_type": "code",
      "metadata": {
        "id": "gI3vUk0xf3I0",
        "colab_type": "code",
        "colab": {}
      },
      "source": [
        "(1 > 2) or (2 < 3)"
      ],
      "execution_count": null,
      "outputs": []
    },
    {
      "cell_type": "code",
      "metadata": {
        "id": "UzIQI9ELf3I1",
        "colab_type": "code",
        "colab": {}
      },
      "source": [
        "not (4 == 4)"
      ],
      "execution_count": null,
      "outputs": []
    },
    {
      "cell_type": "markdown",
      "metadata": {
        "id": "TKmBAW61f3I3",
        "colab_type": "text"
      },
      "source": [
        "## Estructuras de control de flujo"
      ]
    },
    {
      "cell_type": "code",
      "metadata": {
        "id": "xoQ2wCsIf3I3",
        "colab_type": "code",
        "colab": {}
      },
      "source": [
        "if 1 < 2:\n",
        "    print('yep!')"
      ],
      "execution_count": null,
      "outputs": []
    },
    {
      "cell_type": "code",
      "metadata": {
        "id": "rihrh_YSf3I4",
        "colab_type": "code",
        "colab": {}
      },
      "source": [
        "if 1 > 2:\n",
        "    print('first')\n",
        "else:\n",
        "    print('last')"
      ],
      "execution_count": null,
      "outputs": []
    },
    {
      "cell_type": "code",
      "metadata": {
        "id": "4eJ2U-MFf3I5",
        "colab_type": "code",
        "colab": {}
      },
      "source": [
        "if 1 > 2:\n",
        "    print('first')\n",
        "elif 1 < 2:\n",
        "    print('middle')\n",
        "else:\n",
        "    print('Last')"
      ],
      "execution_count": null,
      "outputs": []
    },
    {
      "cell_type": "markdown",
      "metadata": {
        "id": "HT6aC7KVf3I6",
        "colab_type": "text"
      },
      "source": [
        "## Bucles"
      ]
    },
    {
      "cell_type": "code",
      "metadata": {
        "id": "CITUMrG7f3I7",
        "colab_type": "code",
        "colab": {}
      },
      "source": [
        "seq = [1,2,3,4,5]"
      ],
      "execution_count": null,
      "outputs": []
    },
    {
      "cell_type": "code",
      "metadata": {
        "id": "MrRhBX9_f3I8",
        "colab_type": "code",
        "colab": {}
      },
      "source": [
        "for item in seq:\n",
        "    print(item)"
      ],
      "execution_count": null,
      "outputs": []
    },
    {
      "cell_type": "code",
      "metadata": {
        "id": "HQnDgowLf3I9",
        "colab_type": "code",
        "colab": {}
      },
      "source": [
        "for i in range(2,10,2):\n",
        "    print(i)"
      ],
      "execution_count": null,
      "outputs": []
    },
    {
      "cell_type": "code",
      "metadata": {
        "id": "J6-HgQTC5j8P",
        "colab_type": "code",
        "colab": {}
      },
      "source": [
        "i = 0 \n",
        "i++"
      ],
      "execution_count": null,
      "outputs": []
    },
    {
      "cell_type": "code",
      "metadata": {
        "id": "rTYAeZYdf3JB",
        "colab_type": "code",
        "colab": {}
      },
      "source": [
        "i = 1\n",
        "while i < 5:\n",
        "    print('i is: {}'.format(i))\n",
        "    i += 1"
      ],
      "execution_count": null,
      "outputs": []
    },
    {
      "cell_type": "markdown",
      "metadata": {
        "id": "mOrc0FJJf3JB",
        "colab_type": "text"
      },
      "source": [
        "## Funciones"
      ]
    },
    {
      "cell_type": "code",
      "metadata": {
        "id": "W4AB0fGWf3JC",
        "colab_type": "code",
        "colab": {}
      },
      "source": [
        "def nombre_funcion():\n",
        "    return 'funciona'"
      ],
      "execution_count": null,
      "outputs": []
    },
    {
      "cell_type": "code",
      "metadata": {
        "id": "F2c3GoH1f3JD",
        "colab_type": "code",
        "colab": {}
      },
      "source": [
        "def sumar(a,b=3):\n",
        "    return a+b"
      ],
      "execution_count": null,
      "outputs": []
    },
    {
      "cell_type": "code",
      "metadata": {
        "id": "nluY-lyhf3JD",
        "colab_type": "code",
        "colab": {}
      },
      "source": [
        "nombre_funcion"
      ],
      "execution_count": null,
      "outputs": []
    },
    {
      "cell_type": "code",
      "metadata": {
        "id": "cgpt7mQIf3JF",
        "colab_type": "code",
        "colab": {}
      },
      "source": [
        "nombre_funcion()"
      ],
      "execution_count": null,
      "outputs": []
    },
    {
      "cell_type": "code",
      "metadata": {
        "id": "z0vNJQlQf3JG",
        "colab_type": "code",
        "colab": {}
      },
      "source": [
        "sumar(3,4)"
      ],
      "execution_count": null,
      "outputs": []
    },
    {
      "cell_type": "code",
      "metadata": {
        "id": "OL6b-Gmuf3JI",
        "colab_type": "code",
        "colab": {}
      },
      "source": [
        "sumar(2)"
      ],
      "execution_count": null,
      "outputs": []
    },
    {
      "cell_type": "code",
      "metadata": {
        "id": "Hvp7ZIVHf3JJ",
        "colab_type": "code",
        "colab": {}
      },
      "source": [
        "sumar(b=4,a=11)"
      ],
      "execution_count": null,
      "outputs": []
    },
    {
      "cell_type": "code",
      "metadata": {
        "id": "PjS3hHz8f3JL",
        "colab_type": "code",
        "colab": {}
      },
      "source": [
        "fun = lambda a,b=3: a+b\n",
        "fun(1,2)"
      ],
      "execution_count": null,
      "outputs": []
    },
    {
      "cell_type": "code",
      "metadata": {
        "id": "EEkmPdbXf3JO",
        "colab_type": "code",
        "colab": {}
      },
      "source": [
        "def compose(g, f):\n",
        "    def h(x):\n",
        "        return g(f(x))\n",
        "    return h"
      ],
      "execution_count": null,
      "outputs": []
    },
    {
      "cell_type": "code",
      "metadata": {
        "id": "331RjPgCf3JR",
        "colab_type": "code",
        "colab": {}
      },
      "source": [
        "comp = compose(lambda x: x**2, lambda x: x+1)"
      ],
      "execution_count": null,
      "outputs": []
    },
    {
      "cell_type": "code",
      "metadata": {
        "id": "W5LF0iBof3JS",
        "colab_type": "code",
        "colab": {}
      },
      "source": [
        "comp(4)"
      ],
      "execution_count": null,
      "outputs": []
    },
    {
      "cell_type": "markdown",
      "metadata": {
        "id": "HLVaIvYFf3JT",
        "colab_type": "text"
      },
      "source": [
        "## Funciones integradas del lenguaje (algunos)"
      ]
    },
    {
      "cell_type": "markdown",
      "metadata": {
        "id": "Mdzk2Kd7f3JT",
        "colab_type": "text"
      },
      "source": [
        "### Range"
      ]
    },
    {
      "cell_type": "code",
      "metadata": {
        "id": "K_clHcS3f3JT",
        "colab_type": "code",
        "colab": {}
      },
      "source": [
        "list(range(5))"
      ],
      "execution_count": null,
      "outputs": []
    },
    {
      "cell_type": "code",
      "metadata": {
        "id": "VGTXaTu_f3JU",
        "colab_type": "code",
        "colab": {}
      },
      "source": [
        "list(range(2,5))"
      ],
      "execution_count": null,
      "outputs": []
    },
    {
      "cell_type": "code",
      "metadata": {
        "id": "mR16uNv6f3JV",
        "colab_type": "code",
        "colab": {}
      },
      "source": [
        "for i in range(5):\n",
        "    print(i)"
      ],
      "execution_count": null,
      "outputs": []
    },
    {
      "cell_type": "markdown",
      "metadata": {
        "id": "gnAxQ9Sff3JW",
        "colab_type": "text"
      },
      "source": [
        "### Len"
      ]
    },
    {
      "cell_type": "code",
      "metadata": {
        "id": "2TPSVDcvf3JW",
        "colab_type": "code",
        "colab": {}
      },
      "source": [
        "len([1,2,3,4,5])"
      ],
      "execution_count": null,
      "outputs": []
    },
    {
      "cell_type": "code",
      "metadata": {
        "id": "O5MkToB7f3JX",
        "colab_type": "code",
        "colab": {}
      },
      "source": [
        "len((1,2,3))"
      ],
      "execution_count": null,
      "outputs": []
    },
    {
      "cell_type": "code",
      "metadata": {
        "id": "yVkuNmXHf3JY",
        "colab_type": "code",
        "colab": {}
      },
      "source": [
        "len({\"a\":1, \"b\":2})"
      ],
      "execution_count": null,
      "outputs": []
    },
    {
      "cell_type": "markdown",
      "metadata": {
        "id": "W59HJJd-f3JZ",
        "colab_type": "text"
      },
      "source": [
        "### Type"
      ]
    },
    {
      "cell_type": "code",
      "metadata": {
        "id": "MPCtRpZ4f3Ja",
        "colab_type": "code",
        "colab": {}
      },
      "source": [
        "type(1)"
      ],
      "execution_count": null,
      "outputs": []
    },
    {
      "cell_type": "code",
      "metadata": {
        "id": "i3EkdAWaf3Jc",
        "colab_type": "code",
        "colab": {}
      },
      "source": [
        "type([])"
      ],
      "execution_count": null,
      "outputs": []
    },
    {
      "cell_type": "code",
      "metadata": {
        "id": "aRh1DBzcf3Jd",
        "colab_type": "code",
        "colab": {}
      },
      "source": [
        "type(1.2)"
      ],
      "execution_count": null,
      "outputs": []
    },
    {
      "cell_type": "code",
      "metadata": {
        "id": "Rw2TjMCMf3Jd",
        "colab_type": "code",
        "colab": {}
      },
      "source": [
        "type(\"\")"
      ],
      "execution_count": null,
      "outputs": []
    },
    {
      "cell_type": "code",
      "metadata": {
        "id": "Pn2sWbQOf3Je",
        "colab_type": "code",
        "colab": {}
      },
      "source": [
        "type(None)"
      ],
      "execution_count": null,
      "outputs": []
    },
    {
      "cell_type": "code",
      "metadata": {
        "id": "M7ynXRssf3Jf",
        "colab_type": "code",
        "colab": {}
      },
      "source": [
        "type(True)"
      ],
      "execution_count": null,
      "outputs": []
    },
    {
      "cell_type": "markdown",
      "metadata": {
        "id": "x4o6jDUTf3Jg",
        "colab_type": "text"
      },
      "source": [
        "### Vars"
      ]
    },
    {
      "cell_type": "code",
      "metadata": {
        "id": "im58Zej4f3Jg",
        "colab_type": "code",
        "colab": {}
      },
      "source": [
        "vars() # Diccionario con todas las variables que se han declarado hasta el momento"
      ],
      "execution_count": null,
      "outputs": []
    },
    {
      "cell_type": "markdown",
      "metadata": {
        "id": "94LAKf4rf3Jh",
        "colab_type": "text"
      },
      "source": [
        "### Max y Min"
      ]
    },
    {
      "cell_type": "code",
      "metadata": {
        "id": "wWKCTM5Sf3Ji",
        "colab_type": "code",
        "colab": {}
      },
      "source": [
        "print(max([1,2,3,4,5]))"
      ],
      "execution_count": null,
      "outputs": []
    },
    {
      "cell_type": "code",
      "metadata": {
        "id": "731-TBLvf3Jj",
        "colab_type": "code",
        "colab": {}
      },
      "source": [
        "print(min([1,2,3,4,5]))"
      ],
      "execution_count": null,
      "outputs": []
    },
    {
      "cell_type": "markdown",
      "metadata": {
        "id": "9z_WV_7of3Jk",
        "colab_type": "text"
      },
      "source": [
        "### map / filter"
      ]
    },
    {
      "cell_type": "code",
      "metadata": {
        "id": "8FxoLMc9f3Jl",
        "colab_type": "code",
        "colab": {}
      },
      "source": [
        "seq = [1,2,3,4,5]"
      ],
      "execution_count": null,
      "outputs": []
    },
    {
      "cell_type": "code",
      "metadata": {
        "id": "tFLMrPSNf3Jl",
        "colab_type": "code",
        "colab": {}
      },
      "source": [
        "list(map(comp,seq))"
      ],
      "execution_count": null,
      "outputs": []
    },
    {
      "cell_type": "code",
      "metadata": {
        "id": "UjHGU9VOf3Jm",
        "colab_type": "code",
        "colab": {}
      },
      "source": [
        "list(filter(lambda x: x%2 == 0,seq))"
      ],
      "execution_count": null,
      "outputs": []
    },
    {
      "cell_type": "markdown",
      "metadata": {
        "id": "xcd_Plo6f3Jo",
        "colab_type": "text"
      },
      "source": [
        "## Métodos"
      ]
    },
    {
      "cell_type": "code",
      "metadata": {
        "id": "pd6qEhSbf3Jp",
        "colab_type": "code",
        "colab": {}
      },
      "source": [
        "st = 'Hola mi nombre es paco'"
      ],
      "execution_count": null,
      "outputs": []
    },
    {
      "cell_type": "code",
      "metadata": {
        "id": "6H6pMcvmf3Jq",
        "colab_type": "code",
        "colab": {}
      },
      "source": [
        "st.lower()"
      ],
      "execution_count": null,
      "outputs": []
    },
    {
      "cell_type": "code",
      "metadata": {
        "id": "_nZx9jzLf3Jr",
        "colab_type": "code",
        "colab": {}
      },
      "source": [
        "st.upper()"
      ],
      "execution_count": null,
      "outputs": []
    },
    {
      "cell_type": "code",
      "metadata": {
        "id": "YthRDbtJf3Js",
        "colab_type": "code",
        "colab": {}
      },
      "source": [
        "st.split()"
      ],
      "execution_count": null,
      "outputs": []
    },
    {
      "cell_type": "code",
      "metadata": {
        "id": "dqfykgEMf3Jt",
        "colab_type": "code",
        "colab": {}
      },
      "source": [
        "tweet = 'Go Sports! #Sports'"
      ],
      "execution_count": null,
      "outputs": []
    },
    {
      "cell_type": "code",
      "metadata": {
        "id": "wHkx9yRwf3Ju",
        "colab_type": "code",
        "colab": {}
      },
      "source": [
        "tweet.split('#')"
      ],
      "execution_count": null,
      "outputs": []
    },
    {
      "cell_type": "code",
      "metadata": {
        "id": "h-R2EENNf3Jw",
        "colab_type": "code",
        "colab": {}
      },
      "source": [
        "tweet.split('#')[1]"
      ],
      "execution_count": null,
      "outputs": []
    },
    {
      "cell_type": "code",
      "metadata": {
        "id": "UfYQ6m9nf3Jx",
        "colab_type": "code",
        "colab": {}
      },
      "source": [
        "'x' in [1,2,3]"
      ],
      "execution_count": null,
      "outputs": []
    },
    {
      "cell_type": "code",
      "metadata": {
        "id": "8eYfaj6Pf3Jx",
        "colab_type": "code",
        "colab": {}
      },
      "source": [
        "'x' in ['x','y','z']"
      ],
      "execution_count": null,
      "outputs": []
    },
    {
      "cell_type": "code",
      "metadata": {
        "id": "rFCghdeUf3Jy",
        "colab_type": "code",
        "colab": {}
      },
      "source": [
        "a = \"wtf\"\n",
        "b = \"wtf\"\n",
        "print(a is b)\n",
        "#print(id(a))\n",
        "#print(id(b))"
      ],
      "execution_count": null,
      "outputs": []
    },
    {
      "cell_type": "code",
      "metadata": {
        "id": "NPiDV5A-f3J0",
        "colab_type": "code",
        "colab": {}
      },
      "source": [
        "a = \"wtf!\"\n",
        "b = \"wtf!\"\n",
        "print(a is b)\n",
        "#print(id(a))\n",
        "#print(id(b))"
      ],
      "execution_count": null,
      "outputs": []
    },
    {
      "cell_type": "markdown",
      "metadata": {
        "id": "02AANLHef3J0",
        "colab_type": "text"
      },
      "source": [
        "## Recursividad"
      ]
    },
    {
      "cell_type": "code",
      "metadata": {
        "id": "qSmiw2tkf3J1",
        "colab_type": "code",
        "colab": {}
      },
      "source": [
        "se = [1,2,3,4,5]"
      ],
      "execution_count": null,
      "outputs": []
    },
    {
      "cell_type": "code",
      "metadata": {
        "id": "y643-qvIf3J3",
        "colab_type": "code",
        "colab": {}
      },
      "source": [
        "def sumRec(l):\n",
        "    if len(l) > 0:\n",
        "        return l[0] + sumRec(l[1:])\n",
        "    else:\n",
        "        return 0"
      ],
      "execution_count": null,
      "outputs": []
    },
    {
      "cell_type": "code",
      "metadata": {
        "id": "FIM8y-EnI0Dr",
        "colab_type": "code",
        "colab": {}
      },
      "source": [
        "l2 = [1]\n",
        "l2[1:]"
      ],
      "execution_count": null,
      "outputs": []
    },
    {
      "cell_type": "code",
      "metadata": {
        "id": "0_0c-2C5f3J4",
        "colab_type": "code",
        "colab": {}
      },
      "source": [
        "sumRec(se)"
      ],
      "execution_count": null,
      "outputs": []
    },
    {
      "cell_type": "code",
      "metadata": {
        "id": "LM6tXQ4jf3J5",
        "colab_type": "code",
        "colab": {}
      },
      "source": [
        "count = 0\n",
        "for n in se:\n",
        "    count += n\n",
        "count"
      ],
      "execution_count": null,
      "outputs": []
    },
    {
      "cell_type": "markdown",
      "metadata": {
        "id": "AzI2GutMf3J6",
        "colab_type": "text"
      },
      "source": [
        "## Buen trabajo! "
      ]
    }
  ]
}