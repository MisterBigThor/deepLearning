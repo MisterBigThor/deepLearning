{
 "cells": [
  {
   "cell_type": "markdown",
   "metadata": {
    "colab_type": "text",
    "id": "rYrZ1wKtCigE"
   },
   "source": [
    "# PANDAS USAGE"
   ]
  },
  {
   "cell_type": "code",
   "execution_count": 15,
   "metadata": {
    "colab": {},
    "colab_type": "code",
    "executionInfo": {
     "elapsed": 618,
     "status": "ok",
     "timestamp": 1593618455059,
     "user": {
      "displayName": "Victor Correal i Ramos",
      "photoUrl": "https://lh3.googleusercontent.com/a-/AOh14Gj_QhTtWy_lN9Su-TQU9VL__B_N7Z7T5jb96ma86w=s64",
      "userId": "03909351837790625976"
     },
     "user_tz": -120
    },
    "id": "oN6F2AppA8dB"
   },
   "outputs": [],
   "source": [
    "import numpy as np\n",
    "import pandas as pd\n",
    "np.random.seed(101)\n",
    "# pandas para pequeños o medios proyectos ya que carga todo en RAM"
   ]
  },
  {
   "cell_type": "code",
   "execution_count": 2,
   "metadata": {
    "colab": {},
    "colab_type": "code",
    "executionInfo": {
     "elapsed": 639,
     "status": "ok",
     "timestamp": 1593617691363,
     "user": {
      "displayName": "Victor Correal i Ramos",
      "photoUrl": "https://lh3.googleusercontent.com/a-/AOh14Gj_QhTtWy_lN9Su-TQU9VL__B_N7Z7T5jb96ma86w=s64",
      "userId": "03909351837790625976"
     },
     "user_tz": -120
    },
    "id": "O8V_ce2XBA5Z"
   },
   "outputs": [],
   "source": [
    "labels = ['a','b','c']\n",
    "my_list = [10,20,30]\n",
    "arr = np.array([10,20,30])\n",
    "d = {'a':10, 'b':20, 'c':30}"
   ]
  },
  {
   "cell_type": "markdown",
   "metadata": {
    "colab_type": "text",
    "id": "p5MvTVrrBSfP"
   },
   "source": [
    "##Pandas Series\n",
    "\n",
    "A pandas serie can be build with :\n",
    "* a python list (one list for data, another for labels), \n",
    "* with a python dictionari or \n",
    "* a numpy array\n",
    "\n",
    "If no labels are specified, then pandas assign numbers from 0 to N. The content of the serie can be any object.\n",
    "\n",
    "The series can use any datatype from the numpy library (such as int8, float16, ...)\n"
   ]
  },
  {
   "cell_type": "code",
   "execution_count": 12,
   "metadata": {
    "colab": {
     "base_uri": "https://localhost:8080/",
     "height": 164
    },
    "colab_type": "code",
    "executionInfo": {
     "elapsed": 606,
     "status": "ok",
     "timestamp": 1593618127623,
     "user": {
      "displayName": "Victor Correal i Ramos",
      "photoUrl": "https://lh3.googleusercontent.com/a-/AOh14Gj_QhTtWy_lN9Su-TQU9VL__B_N7Z7T5jb96ma86w=s64",
      "userId": "03909351837790625976"
     },
     "user_tz": -120
    },
    "id": "HIWcLPM3BD5W",
    "outputId": "206712b0-8d3e-4f81-e1ba-31be3dfedd2c"
   },
   "outputs": [
    {
     "name": "stdout",
     "output_type": "stream",
     "text": [
      "a    10\n",
      "b    20\n",
      "c    30\n",
      "dtype: int8\n",
      "a    10\n",
      "b    20\n",
      "c    30\n",
      "dtype: int64\n"
     ]
    }
   ],
   "source": [
    "#python lists\n",
    "s1 = pd.Series(data=my_list, index=labels, dtype=np.int8)\n",
    "#numpy array\n",
    "s2 = pd.Series(arr)\n",
    "#python dictionari\n",
    "s3 = pd.Series(d)\n",
    "s4 = pd.Series([sum, print, len])\n",
    "print(s1)\n",
    "print(s3)"
   ]
  },
  {
   "cell_type": "markdown",
   "metadata": {
    "colab_type": "text",
    "id": "8kDXaZfjDKn9"
   },
   "source": [
    "##Pandas data frame\n",
    "\n",
    "A data frame is a union of series, with the following format:\n",
    "\n",
    "* For accessing a column, use the ['key'] or a list of keys or with a dot and the column name."
   ]
  },
  {
   "cell_type": "code",
   "execution_count": 66,
   "metadata": {
    "colab": {
     "base_uri": "https://localhost:8080/",
     "height": 348
    },
    "colab_type": "code",
    "executionInfo": {
     "elapsed": 628,
     "status": "ok",
     "timestamp": 1593620764344,
     "user": {
      "displayName": "Victor Correal i Ramos",
      "photoUrl": "https://lh3.googleusercontent.com/a-/AOh14Gj_QhTtWy_lN9Su-TQU9VL__B_N7Z7T5jb96ma86w=s64",
      "userId": "03909351837790625976"
     },
     "user_tz": -120
    },
    "id": "2O6norm5DYVv",
    "outputId": "12efa4e7-be82-4fa9-c5a8-90ae7fbaae7f"
   },
   "outputs": [
    {
     "name": "stdout",
     "output_type": "stream",
     "text": [
      "          W         X         Y         Z\n",
      "A -1.467514 -0.494095 -0.162535  0.485809\n",
      "B  0.392489  0.221491 -0.855196  1.541990\n",
      "C  0.666319 -0.538235 -0.568581  1.407338\n",
      "D  0.641806 -0.905100 -0.391157  1.028293\n",
      "E -1.972605 -0.866885  0.720788 -1.223082\n",
      "          W         Z\n",
      "A -1.467514  0.485809\n",
      "B  0.392489  1.541990\n",
      "C  0.666319  1.407338\n",
      "D  0.641806  1.028293\n",
      "E -1.972605 -1.223082\n",
      "A   -1.467514\n",
      "B    0.392489\n",
      "C    0.666319\n",
      "D    0.641806\n",
      "E   -1.972605\n",
      "Name: W, dtype: float64\n"
     ]
    }
   ],
   "source": [
    "df = pd.DataFrame(np.random.randn(5,4), index='A B C D E'.split(), \n",
    "                  columns='W X Y Z'.split())\n",
    "print(df)\n",
    "print(df[['W', 'Z']])\n",
    "print(df.W)"
   ]
  },
  {
   "cell_type": "markdown",
   "metadata": {
    "colab_type": "text",
    "id": "r1YFdSlrFTsm"
   },
   "source": [
    "## Data frame modify columns / records\n",
    "In many methods, the inplace parameter is used to apply to the var the changes.\n",
    "\n",
    "### Columns\n",
    "* For adding new columns, acces a with a new column name.\n",
    "* For deleting, the key 'del' followed with the df column or \n",
    "* Use the method drop(axis='column'|'index').\n",
    "\n",
    "### Records\n",
    "* For select a record, acces with the loc('r', 'col') method. The r and the col parameter can be a pytohn list to select several chunks of the dataset.\n",
    "* The iloc(N) method is used to select the N-th record of the dataset(or a slice). N goes from 0 to N-1."
   ]
  },
  {
   "cell_type": "code",
   "execution_count": 34,
   "metadata": {
    "colab": {
     "base_uri": "https://localhost:8080/",
     "height": 206
    },
    "colab_type": "code",
    "executionInfo": {
     "elapsed": 627,
     "status": "ok",
     "timestamp": 1593619230843,
     "user": {
      "displayName": "Victor Correal i Ramos",
      "photoUrl": "https://lh3.googleusercontent.com/a-/AOh14Gj_QhTtWy_lN9Su-TQU9VL__B_N7Z7T5jb96ma86w=s64",
      "userId": "03909351837790625976"
     },
     "user_tz": -120
    },
    "id": "in8lM2RzFf5J",
    "outputId": "9b9997bd-a645-4d43-b71c-e4e37e44c125"
   },
   "outputs": [
    {
     "data": {
      "text/html": [
       "<div>\n",
       "<style scoped>\n",
       "    .dataframe tbody tr th:only-of-type {\n",
       "        vertical-align: middle;\n",
       "    }\n",
       "\n",
       "    .dataframe tbody tr th {\n",
       "        vertical-align: top;\n",
       "    }\n",
       "\n",
       "    .dataframe thead th {\n",
       "        text-align: right;\n",
       "    }\n",
       "</style>\n",
       "<table border=\"1\" class=\"dataframe\">\n",
       "  <thead>\n",
       "    <tr style=\"text-align: right;\">\n",
       "      <th></th>\n",
       "      <th>W</th>\n",
       "      <th>X</th>\n",
       "      <th>Y</th>\n",
       "      <th>Z</th>\n",
       "      <th>append</th>\n",
       "      <th>new col</th>\n",
       "    </tr>\n",
       "  </thead>\n",
       "  <tbody>\n",
       "    <tr>\n",
       "      <th>A</th>\n",
       "      <td>0.386030</td>\n",
       "      <td>2.084019</td>\n",
       "      <td>-0.376519</td>\n",
       "      <td>0.230336</td>\n",
       "      <td>0</td>\n",
       "      <td>5</td>\n",
       "    </tr>\n",
       "    <tr>\n",
       "      <th>B</th>\n",
       "      <td>0.681209</td>\n",
       "      <td>1.035125</td>\n",
       "      <td>-0.031160</td>\n",
       "      <td>1.939932</td>\n",
       "      <td>0</td>\n",
       "      <td>5</td>\n",
       "    </tr>\n",
       "    <tr>\n",
       "      <th>C</th>\n",
       "      <td>-1.005187</td>\n",
       "      <td>-0.741790</td>\n",
       "      <td>0.187125</td>\n",
       "      <td>-0.732845</td>\n",
       "      <td>0</td>\n",
       "      <td>5</td>\n",
       "    </tr>\n",
       "    <tr>\n",
       "      <th>D</th>\n",
       "      <td>-1.382920</td>\n",
       "      <td>1.482495</td>\n",
       "      <td>0.961458</td>\n",
       "      <td>-2.141212</td>\n",
       "      <td>0</td>\n",
       "      <td>5</td>\n",
       "    </tr>\n",
       "    <tr>\n",
       "      <th>E</th>\n",
       "      <td>0.992573</td>\n",
       "      <td>1.192241</td>\n",
       "      <td>-1.046780</td>\n",
       "      <td>1.292765</td>\n",
       "      <td>0</td>\n",
       "      <td>5</td>\n",
       "    </tr>\n",
       "  </tbody>\n",
       "</table>\n",
       "</div>"
      ],
      "text/plain": [
       "          W         X         Y         Z  append  new col\n",
       "A  0.386030  2.084019 -0.376519  0.230336       0        5\n",
       "B  0.681209  1.035125 -0.031160  1.939932       0        5\n",
       "C -1.005187 -0.741790  0.187125 -0.732845       0        5\n",
       "D -1.382920  1.482495  0.961458 -2.141212       0        5\n",
       "E  0.992573  1.192241 -1.046780  1.292765       0        5"
      ]
     },
     "execution_count": 34,
     "metadata": {
      "tags": []
     },
     "output_type": "execute_result"
    }
   ],
   "source": [
    "df['append'] = 0\n",
    "df['new col'] = 5\n",
    "df"
   ]
  },
  {
   "cell_type": "code",
   "execution_count": 35,
   "metadata": {
    "colab": {
     "base_uri": "https://localhost:8080/",
     "height": 175
    },
    "colab_type": "code",
    "executionInfo": {
     "elapsed": 853,
     "status": "ok",
     "timestamp": 1593619233176,
     "user": {
      "displayName": "Victor Correal i Ramos",
      "photoUrl": "https://lh3.googleusercontent.com/a-/AOh14Gj_QhTtWy_lN9Su-TQU9VL__B_N7Z7T5jb96ma86w=s64",
      "userId": "03909351837790625976"
     },
     "user_tz": -120
    },
    "id": "RgZKotQVFxjF",
    "outputId": "95ed1c22-0cb3-44c3-8548-650d9c4749c1"
   },
   "outputs": [
    {
     "data": {
      "text/html": [
       "<div>\n",
       "<style scoped>\n",
       "    .dataframe tbody tr th:only-of-type {\n",
       "        vertical-align: middle;\n",
       "    }\n",
       "\n",
       "    .dataframe tbody tr th {\n",
       "        vertical-align: top;\n",
       "    }\n",
       "\n",
       "    .dataframe thead th {\n",
       "        text-align: right;\n",
       "    }\n",
       "</style>\n",
       "<table border=\"1\" class=\"dataframe\">\n",
       "  <thead>\n",
       "    <tr style=\"text-align: right;\">\n",
       "      <th></th>\n",
       "      <th>W</th>\n",
       "      <th>X</th>\n",
       "      <th>Y</th>\n",
       "      <th>Z</th>\n",
       "    </tr>\n",
       "  </thead>\n",
       "  <tbody>\n",
       "    <tr>\n",
       "      <th>A</th>\n",
       "      <td>0.386030</td>\n",
       "      <td>2.084019</td>\n",
       "      <td>-0.376519</td>\n",
       "      <td>0.230336</td>\n",
       "    </tr>\n",
       "    <tr>\n",
       "      <th>B</th>\n",
       "      <td>0.681209</td>\n",
       "      <td>1.035125</td>\n",
       "      <td>-0.031160</td>\n",
       "      <td>1.939932</td>\n",
       "    </tr>\n",
       "    <tr>\n",
       "      <th>C</th>\n",
       "      <td>-1.005187</td>\n",
       "      <td>-0.741790</td>\n",
       "      <td>0.187125</td>\n",
       "      <td>-0.732845</td>\n",
       "    </tr>\n",
       "    <tr>\n",
       "      <th>D</th>\n",
       "      <td>-1.382920</td>\n",
       "      <td>1.482495</td>\n",
       "      <td>0.961458</td>\n",
       "      <td>-2.141212</td>\n",
       "    </tr>\n",
       "  </tbody>\n",
       "</table>\n",
       "</div>"
      ],
      "text/plain": [
       "          W         X         Y         Z\n",
       "A  0.386030  2.084019 -0.376519  0.230336\n",
       "B  0.681209  1.035125 -0.031160  1.939932\n",
       "C -1.005187 -0.741790  0.187125 -0.732845\n",
       "D -1.382920  1.482495  0.961458 -2.141212"
      ]
     },
     "execution_count": 35,
     "metadata": {
      "tags": []
     },
     "output_type": "execute_result"
    }
   ],
   "source": [
    "del df['new col']\n",
    "df.drop('append', axis='columns', inplace=True)\n",
    "df.drop('E', axis='index', inplace=True)\n",
    "df"
   ]
  },
  {
   "cell_type": "code",
   "execution_count": 44,
   "metadata": {
    "colab": {
     "base_uri": "https://localhost:8080/",
     "height": 112
    },
    "colab_type": "code",
    "executionInfo": {
     "elapsed": 583,
     "status": "ok",
     "timestamp": 1593619915051,
     "user": {
      "displayName": "Victor Correal i Ramos",
      "photoUrl": "https://lh3.googleusercontent.com/a-/AOh14Gj_QhTtWy_lN9Su-TQU9VL__B_N7Z7T5jb96ma86w=s64",
      "userId": "03909351837790625976"
     },
     "user_tz": -120
    },
    "id": "c5xKup15H8JM",
    "outputId": "9b4bafbc-767f-4ded-8900-f4028e432679"
   },
   "outputs": [
    {
     "data": {
      "text/html": [
       "<div>\n",
       "<style scoped>\n",
       "    .dataframe tbody tr th:only-of-type {\n",
       "        vertical-align: middle;\n",
       "    }\n",
       "\n",
       "    .dataframe tbody tr th {\n",
       "        vertical-align: top;\n",
       "    }\n",
       "\n",
       "    .dataframe thead th {\n",
       "        text-align: right;\n",
       "    }\n",
       "</style>\n",
       "<table border=\"1\" class=\"dataframe\">\n",
       "  <thead>\n",
       "    <tr style=\"text-align: right;\">\n",
       "      <th></th>\n",
       "      <th>W</th>\n",
       "      <th>X</th>\n",
       "      <th>Y</th>\n",
       "      <th>Z</th>\n",
       "    </tr>\n",
       "  </thead>\n",
       "  <tbody>\n",
       "    <tr>\n",
       "      <th>A</th>\n",
       "      <td>0.386030</td>\n",
       "      <td>2.084019</td>\n",
       "      <td>-0.376519</td>\n",
       "      <td>0.230336</td>\n",
       "    </tr>\n",
       "    <tr>\n",
       "      <th>B</th>\n",
       "      <td>0.681209</td>\n",
       "      <td>1.035125</td>\n",
       "      <td>-0.031160</td>\n",
       "      <td>1.939932</td>\n",
       "    </tr>\n",
       "  </tbody>\n",
       "</table>\n",
       "</div>"
      ],
      "text/plain": [
       "          W         X         Y         Z\n",
       "A  0.386030  2.084019 -0.376519  0.230336\n",
       "B  0.681209  1.035125 -0.031160  1.939932"
      ]
     },
     "execution_count": 44,
     "metadata": {
      "tags": []
     },
     "output_type": "execute_result"
    }
   ],
   "source": [
    "df.loc[['A', 'B'], ['W', 'Y']]\n",
    "df.iloc[0:2]"
   ]
  },
  {
   "cell_type": "markdown",
   "metadata": {
    "colab_type": "text",
    "id": "8de-z7MzJlPh"
   },
   "source": [
    "## Data frame selection\n",
    "\n",
    "Using boolean conditions, a filter can be applied to a data frame."
   ]
  },
  {
   "cell_type": "code",
   "execution_count": 57,
   "metadata": {
    "colab": {
     "base_uri": "https://localhost:8080/",
     "height": 256
    },
    "colab_type": "code",
    "executionInfo": {
     "elapsed": 633,
     "status": "ok",
     "timestamp": 1593620322642,
     "user": {
      "displayName": "Victor Correal i Ramos",
      "photoUrl": "https://lh3.googleusercontent.com/a-/AOh14Gj_QhTtWy_lN9Su-TQU9VL__B_N7Z7T5jb96ma86w=s64",
      "userId": "03909351837790625976"
     },
     "user_tz": -120
    },
    "id": "54yuzM9mJk_t",
    "outputId": "47384b88-f743-4c90-dd2d-0fe36d09a07f"
   },
   "outputs": [
    {
     "name": "stdout",
     "output_type": "stream",
     "text": [
      "       W      X      Y      Z\n",
      "A   True   True  False   True\n",
      "B   True   True  False   True\n",
      "C  False  False   True  False\n",
      "D  False   True   True  False\n",
      "          W         X         Y         Z\n",
      "A  0.386030  2.084019       NaN  0.230336\n",
      "B  0.681209  1.035125       NaN  1.939932\n",
      "C       NaN       NaN  0.187125       NaN\n",
      "D       NaN  1.482495  0.961458       NaN\n",
      "          W         X         Y         Z\n",
      "A  0.386030  2.084019 -0.376519  0.230336\n",
      "B  0.681209  1.035125 -0.031160  1.939932\n"
     ]
    }
   ],
   "source": [
    "print(df > 0)\n",
    "print(df[df > 0])\n",
    "print(df[(df['W']>0) & (df['Z'] > 0)])"
   ]
  },
  {
   "cell_type": "markdown",
   "metadata": {
    "colab_type": "text",
    "id": "QVkmJGhNLdKl"
   },
   "source": [
    "## Data frame index\n",
    "The indexs of the dataframe can be modify with the set_index() method.\n",
    "\n",
    "Also, a multiindex can be used:\n"
   ]
  },
  {
   "cell_type": "code",
   "execution_count": 67,
   "metadata": {
    "colab": {
     "base_uri": "https://localhost:8080/",
     "height": 348
    },
    "colab_type": "code",
    "executionInfo": {
     "elapsed": 575,
     "status": "ok",
     "timestamp": 1593620778625,
     "user": {
      "displayName": "Victor Correal i Ramos",
      "photoUrl": "https://lh3.googleusercontent.com/a-/AOh14Gj_QhTtWy_lN9Su-TQU9VL__B_N7Z7T5jb96ma86w=s64",
      "userId": "03909351837790625976"
     },
     "user_tz": -120
    },
    "id": "jx-EW2isLrEZ",
    "outputId": "1ef32dbc-1ab7-414f-f730-90b508d400d1"
   },
   "outputs": [
    {
     "name": "stdout",
     "output_type": "stream",
     "text": [
      "          W         X         Y         Z\n",
      "A -1.467514 -0.494095 -0.162535  0.485809\n",
      "B  0.392489  0.221491 -0.855196  1.541990\n",
      "C  0.666319 -0.538235 -0.568581  1.407338\n",
      "D  0.641806 -0.905100 -0.391157  1.028293\n",
      "E -1.972605 -0.866885  0.720788 -1.223082\n"
     ]
    },
    {
     "data": {
      "text/html": [
       "<div>\n",
       "<style scoped>\n",
       "    .dataframe tbody tr th:only-of-type {\n",
       "        vertical-align: middle;\n",
       "    }\n",
       "\n",
       "    .dataframe tbody tr th {\n",
       "        vertical-align: top;\n",
       "    }\n",
       "\n",
       "    .dataframe thead th {\n",
       "        text-align: right;\n",
       "    }\n",
       "</style>\n",
       "<table border=\"1\" class=\"dataframe\">\n",
       "  <thead>\n",
       "    <tr style=\"text-align: right;\">\n",
       "      <th></th>\n",
       "      <th>W</th>\n",
       "      <th>X</th>\n",
       "      <th>Y</th>\n",
       "      <th>Z</th>\n",
       "    </tr>\n",
       "    <tr>\n",
       "      <th>States</th>\n",
       "      <th></th>\n",
       "      <th></th>\n",
       "      <th></th>\n",
       "      <th></th>\n",
       "    </tr>\n",
       "  </thead>\n",
       "  <tbody>\n",
       "    <tr>\n",
       "      <th>CA</th>\n",
       "      <td>-1.467514</td>\n",
       "      <td>-0.494095</td>\n",
       "      <td>-0.162535</td>\n",
       "      <td>0.485809</td>\n",
       "    </tr>\n",
       "    <tr>\n",
       "      <th>NY</th>\n",
       "      <td>0.392489</td>\n",
       "      <td>0.221491</td>\n",
       "      <td>-0.855196</td>\n",
       "      <td>1.541990</td>\n",
       "    </tr>\n",
       "    <tr>\n",
       "      <th>WY</th>\n",
       "      <td>0.666319</td>\n",
       "      <td>-0.538235</td>\n",
       "      <td>-0.568581</td>\n",
       "      <td>1.407338</td>\n",
       "    </tr>\n",
       "    <tr>\n",
       "      <th>OR</th>\n",
       "      <td>0.641806</td>\n",
       "      <td>-0.905100</td>\n",
       "      <td>-0.391157</td>\n",
       "      <td>1.028293</td>\n",
       "    </tr>\n",
       "    <tr>\n",
       "      <th>CO</th>\n",
       "      <td>-1.972605</td>\n",
       "      <td>-0.866885</td>\n",
       "      <td>0.720788</td>\n",
       "      <td>-1.223082</td>\n",
       "    </tr>\n",
       "  </tbody>\n",
       "</table>\n",
       "</div>"
      ],
      "text/plain": [
       "               W         X         Y         Z\n",
       "States                                        \n",
       "CA     -1.467514 -0.494095 -0.162535  0.485809\n",
       "NY      0.392489  0.221491 -0.855196  1.541990\n",
       "WY      0.666319 -0.538235 -0.568581  1.407338\n",
       "OR      0.641806 -0.905100 -0.391157  1.028293\n",
       "CO     -1.972605 -0.866885  0.720788 -1.223082"
      ]
     },
     "execution_count": 67,
     "metadata": {
      "tags": []
     },
     "output_type": "execute_result"
    }
   ],
   "source": [
    "print(df)\n",
    "df['States'] = 'CA NY WY OR CO'.split()\n",
    "df.set_index('States', inplace=True)\n",
    "df"
   ]
  }
 ],
 "metadata": {
  "colab": {
   "authorship_tag": "ABX9TyMnyBZ6w7J8/4ycBOGz7z9I",
   "collapsed_sections": [],
   "name": "Pandas.ipynb",
   "provenance": []
  },
  "kernelspec": {
   "display_name": "Python 3",
   "language": "python",
   "name": "python3"
  },
  "language_info": {
   "codemirror_mode": {
    "name": "ipython",
    "version": 3
   },
   "file_extension": ".py",
   "mimetype": "text/x-python",
   "name": "python",
   "nbconvert_exporter": "python",
   "pygments_lexer": "ipython3",
   "version": "3.7.6"
  }
 },
 "nbformat": 4,
 "nbformat_minor": 4
}
