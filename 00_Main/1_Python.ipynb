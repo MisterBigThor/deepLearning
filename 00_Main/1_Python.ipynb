{
 "cells": [
  {
   "cell_type": "markdown",
   "metadata": {
    "colab_type": "text",
    "id": "1c2iJMbKVmQy"
   },
   "source": [
    "# Python basics\n",
    "\n",
    "## Basics\n",
    "* Use snake case, the multiple asignation is allowed.\n",
    "* Single quotes for strings, double are also allowed.\n",
    "* Boolean start with upper case.\n",
    "* For printing vars, the ``.format()`` method is used.\n",
    "* The logic operators are ``and, or, not``.\n",
    "* The mathematic operators are ``+,-,%,/,*,**``.\n"
   ]
  },
  {
   "cell_type": "markdown",
   "metadata": {
    "colab_type": "text",
    "id": "wAIUnAAYhBKy"
   },
   "source": [
    "## Control flow\n"
   ]
  },
  {
   "cell_type": "markdown",
   "metadata": {
    "colab_type": "text",
    "id": "vVgLX6i-gG8L"
   },
   "source": [
    "* if, elif & else\n",
    "````python\n",
    "if 1 > 2:\n",
    "    print('first')\n",
    "elif 1 < 2:\n",
    "    print('middle')\n",
    "else:\n",
    "    print('Last')\n",
    "````\n",
    "\n",
    "* Loop statement\n",
    "````python\n",
    "for item in seq:\n",
    "    print(item)\n",
    "````\n",
    "\n",
    "* Lists definitions\n",
    "A list can be generated with the following structure:\n",
    "```python\n",
    "[item for item in range(0,6) if item%2 == 0]\n",
    "```\n",
    "\n"
   ]
  },
  {
   "cell_type": "code",
   "execution_count": null,
   "metadata": {
    "colab": {
     "base_uri": "https://localhost:8080/",
     "height": 34
    },
    "colab_type": "code",
    "executionInfo": {
     "elapsed": 578,
     "status": "ok",
     "timestamp": 1593676272941,
     "user": {
      "displayName": "Victor Correal i Ramos",
      "photoUrl": "https://lh3.googleusercontent.com/a-/AOh14Gj_QhTtWy_lN9Su-TQU9VL__B_N7Z7T5jb96ma86w=s64",
      "userId": "03909351837790625976"
     },
     "user_tz": -120
    },
    "id": "Epdbj1LygeR8",
    "outputId": "839c6316-a00c-4322-bfdb-c336e4f00c01"
   },
   "outputs": [
    {
     "data": {
      "text/plain": [
       "[1, 2, 3, 4]"
      ]
     },
     "execution_count": 13,
     "metadata": {
      "tags": []
     },
     "output_type": "execute_result"
    }
   ],
   "source": [
    "l = [1,2,3,4]\n",
    "l"
   ]
  },
  {
   "cell_type": "markdown",
   "metadata": {
    "colab_type": "text",
    "id": "1UCW22hvhSSg"
   },
   "source": [
    "## Data structures and casts\n",
    "* List : ``[]`` cast with list()\n",
    "* Dict : ``{}`` cast with dict()\n",
    "* Tuples : ``()`` cast with tuple()\n",
    "* Set : ``{}`` cast with set()\n"
   ]
  },
  {
   "cell_type": "markdown",
   "metadata": {
    "colab_type": "text",
    "id": "KsWnSowdf9pM"
   },
   "source": [
    "## Integrated functions & methods\n",
    "\n",
    "### Basics functions\n",
    "* ``range(start, stop [,range])``\n",
    "* ``len()`` Items in the container.\n",
    "* ``type()`` Object type name.\n",
    "* ``vars()`` Dict with all vars in the execution.\n",
    "* ``max(l)`` Max of an itereable.\n",
    "* ``min(l)`` Min of an iterable.\n",
    "* ``map(funct, iterable)`` Computes funct in all iterable.\n",
    "* ``filter(funct, iterable)`` Returns a new list with the true elements, or which elements that funct(item) is true.\n",
    "* ``counter, value = enumerate(iterable)``. Generates a counter for all the iterable items.\n",
    "\n",
    "### Iterable selection\n",
    "In any iterable structure, the ``[ini:end]`` method allow a slice selection of the array. This selects elements in the range [ini to end).\n",
    "\n",
    "Also, the indexs can be negative, then the last element in the iterable is the -1.\n",
    "\n",
    "### List methods\n",
    "* ``sort()``\n",
    "* ``reverse()``\n",
    "* ``append()``\n",
    "* ``pop()``\n",
    "* ``insert()``\n",
    "* ``extend()``\n",
    "\n",
    "### String methods\n",
    "* ``lower()``\n",
    "* ``upper()``\n",
    "* ``split()``\n",
    "\n",
    "### Another keywords\n",
    "* ``is`` keyword Test if two vars refer to the same object.\n",
    "    \n",
    "* ``in`` keyword :\n",
    "    * check if a value is present in a iterable\n",
    "    * iterate through a loop (for)."
   ]
  },
  {
   "cell_type": "markdown",
   "metadata": {
    "colab_type": "text",
    "id": "TVbdRr_mgnVz"
   },
   "source": [
    "## Define functions\n",
    "Use the following structure for defining a function.\n",
    "\n",
    "```python\n",
    "def sum(a, b, c=3):\n",
    "    return a+b+c\n",
    "```\n",
    "\n",
    "Also, the keyword lambda is used to generate on-the-fly functions:\n",
    "\n",
    "```python\n",
    "lambda a,b,c=3 : a+b+c\n",
    "```\n",
    "The left side of the : there are the parameters and the return is on the right side.\n",
    "\n"
   ]
  }
 ],
 "metadata": {
  "colab": {
   "authorship_tag": "ABX9TyPtbYEYz9gDQ8rREB8UqIBY",
   "name": "Python.ipynb",
   "provenance": []
  },
  "kernelspec": {
   "display_name": "Python 3",
   "language": "python",
   "name": "python3"
  },
  "language_info": {
   "codemirror_mode": {
    "name": "ipython",
    "version": 3
   },
   "file_extension": ".py",
   "mimetype": "text/x-python",
   "name": "python",
   "nbconvert_exporter": "python",
   "pygments_lexer": "ipython3",
   "version": "3.7.6"
  }
 },
 "nbformat": 4,
 "nbformat_minor": 4
}
